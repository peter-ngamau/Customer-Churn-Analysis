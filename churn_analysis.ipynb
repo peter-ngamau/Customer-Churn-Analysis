{
 "cells": [
  {
   "cell_type": "markdown",
   "id": "26a5ebef",
   "metadata": {},
   "source": [
    "# 📊 Customer Churn Analysis\n",
    "This notebook explores a sample telecom dataset to understand customer churn patterns."
   ]
  },
  {
   "cell_type": "code",
   "execution_count": null,
   "id": "9585e0f4",
   "metadata": {},
   "outputs": [],
   "source": [
    "import pandas as pd\n",
    "import matplotlib.pyplot as plt\n",
    "import seaborn as sns\n",
    "\n",
    "# Load dataset\n",
    "df = pd.read_csv('customer_churn_data.csv')\n",
    "df.head()"
   ]
  },
  {
   "cell_type": "markdown",
   "id": "cbceba6a",
   "metadata": {},
   "source": [
    "## 🔍 Basic Summary"
   ]
  },
  {
   "cell_type": "code",
   "execution_count": null,
   "id": "e69dc46e",
   "metadata": {},
   "outputs": [],
   "source": [
    "df.info()\n",
    "df.describe()"
   ]
  },
  {
   "cell_type": "markdown",
   "id": "50be368f",
   "metadata": {},
   "source": [
    "## 🎯 Churn Distribution"
   ]
  },
  {
   "cell_type": "code",
   "execution_count": null,
   "id": "eab605d3",
   "metadata": {},
   "outputs": [],
   "source": [
    "sns.countplot(x='Churn', data=df)\n",
    "plt.title('Customer Churn Count')\n",
    "plt.show()"
   ]
  },
  {
   "cell_type": "markdown",
   "id": "24de7d61",
   "metadata": {},
   "source": [
    "## 📈 Monthly Charges vs Churn"
   ]
  },
  {
   "cell_type": "code",
   "execution_count": null,
   "id": "b74ef43e",
   "metadata": {},
   "outputs": [],
   "source": [
    "sns.boxplot(x='Churn', y='MonthlyCharges', data=df)\n",
    "plt.title('Monthly Charges by Churn')\n",
    "plt.show()"
   ]
  },
  {
   "cell_type": "markdown",
   "id": "0888f3a1",
   "metadata": {},
   "source": [
    "## 🧓 Tenure Distribution"
   ]
  },
  {
   "cell_type": "code",
   "execution_count": null,
   "id": "6209d6d8",
   "metadata": {},
   "outputs": [],
   "source": [
    "sns.histplot(data=df, x='Tenure', hue='Churn', bins=20, kde=True)\n",
    "plt.title('Tenure Distribution by Churn')\n",
    "plt.show()"
   ]
  }
 ],
 "metadata": {},
 "nbformat": 4,
 "nbformat_minor": 5
}
